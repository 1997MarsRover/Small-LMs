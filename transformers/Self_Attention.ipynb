{
  "nbformat": 4,
  "nbformat_minor": 0,
  "metadata": {
    "colab": {
      "provenance": [],
      "include_colab_link": true
    },
    "kernelspec": {
      "name": "python3",
      "display_name": "Python 3"
    },
    "language_info": {
      "name": "python"
    }
  },
  "cells": [
    {
      "cell_type": "markdown",
      "metadata": {
        "id": "view-in-github",
        "colab_type": "text"
      },
      "source": [
        "<a href=\"https://colab.research.google.com/github/1997MarsRover/Small-LMs/blob/main/transformers/Self_Attention.ipynb\" target=\"_parent\"><img src=\"https://colab.research.google.com/assets/colab-badge.svg\" alt=\"Open In Colab\"/></a>"
      ]
    },
    {
      "cell_type": "markdown",
      "source": [
        "# **Notebook 12.1: Self Attention**\n",
        "\n",
        "This notebook builds a self-attention mechanism from scratch, as discussed in Understanding Deep Learning by Prof. Simone Prince\n",
        "\n",
        "\n"
      ],
      "metadata": {
        "id": "t9vk9Elugvmi"
      }
    },
    {
      "cell_type": "code",
      "source": [
        "import numpy as np\n",
        "import matplotlib.pyplot as plt"
      ],
      "metadata": {
        "id": "OLComQyvCIJ7"
      },
      "execution_count": null,
      "outputs": []
    },
    {
      "cell_type": "markdown",
      "source": [
        "The self-attention mechanism maps $N$ inputs $\\mathbf{x}_{n}\\in\\mathbb{R}^{D}$ and returns $N$ outputs $\\mathbf{x}'_{n}\\in \\mathbb{R}^{D}$.  \n",
        "\n"
      ],
      "metadata": {
        "id": "9OJkkoNqCVK2"
      }
    },
    {
      "cell_type": "code",
      "source": [
        "# Set seed so we get the same random numbers\n",
        "np.random.seed(3)\n",
        "# Number of inputs\n",
        "N = 3\n",
        "# Number of dimensions of each input\n",
        "D = 4\n",
        "# Create an empty list\n",
        "all_x = []\n",
        "# Create elements x_n and append to list\n",
        "for n in range(N):\n",
        "  all_x.append(np.random.normal(size=(D,1)))\n",
        "# Print out the list\n",
        "print(all_x)\n"
      ],
      "metadata": {
        "id": "oAygJwLiCSri",
        "colab": {
          "base_uri": "https://localhost:8080/"
        },
        "outputId": "26081e33-ec21-4aab-a019-e087ba413c1b"
      },
      "execution_count": null,
      "outputs": [
        {
          "output_type": "stream",
          "name": "stdout",
          "text": [
            "[array([[ 1.78862847],\n",
            "       [ 0.43650985],\n",
            "       [ 0.09649747],\n",
            "       [-1.8634927 ]]), array([[-0.2773882 ],\n",
            "       [-0.35475898],\n",
            "       [-0.08274148],\n",
            "       [-0.62700068]]), array([[-0.04381817],\n",
            "       [-0.47721803],\n",
            "       [-1.31386475],\n",
            "       [ 0.88462238]])]\n"
          ]
        }
      ]
    },
    {
      "cell_type": "markdown",
      "source": [
        "We'll also need the weights and biases for the keys, queries, and values qn = βq + Ωqxn\n",
        "km = βk + Ωkxm,\n",
        "\n"
      ],
      "metadata": {
        "id": "W2iHFbtKMaDp"
      }
    },
    {
      "cell_type": "code",
      "source": [
        "# Set seed so we get the same random numbers\n",
        "np.random.seed(0)\n",
        "\n",
        "# Choose random values for the parameters\n",
        "omega_q = np.random.normal(size=(D,D))\n",
        "omega_k = np.random.normal(size=(D,D))\n",
        "omega_v = np.random.normal(size=(D,D))\n",
        "beta_q = np.random.normal(size=(D,1))\n",
        "beta_k = np.random.normal(size=(D,1))\n",
        "beta_v = np.random.normal(size=(D,1))"
      ],
      "metadata": {
        "id": "79TSK7oLMobe"
      },
      "execution_count": null,
      "outputs": []
    },
    {
      "cell_type": "markdown",
      "source": [
        "Now let's compute the queries, keys, and values for each input"
      ],
      "metadata": {
        "id": "VxaKQtP3Ng6R"
      }
    },
    {
      "cell_type": "code",
      "source": [
        "# Make three lists to store queries, keys, and values\n",
        "all_queries = []\n",
        "all_keys = []\n",
        "all_values = []\n",
        "# For every input\n",
        "for x in all_x:\n",
        "  #V[X] = βv1T + ΩvX\n",
        "\n",
        "  query = beta_q + np.matmul(omega_q, x)\n",
        "  key = beta_k + np.matmul(omega_k, x)\n",
        "  value = beta_v + np.matmul(omega_v, x)\n",
        "\n",
        "  all_queries.append(query)\n",
        "  all_keys.append(key)\n",
        "  all_values.append(value)"
      ],
      "metadata": {
        "id": "TwDK2tfdNmw9"
      },
      "execution_count": null,
      "outputs": []
    },
    {
      "cell_type": "markdown",
      "source": [
        "We'll need a softmax function a[xm, xn] = softmaxm\n",
        "\n",
        "k\n",
        "T\n",
        "• qn\n",
        "\n",
        "=\n",
        "exp\n",
        "k\n",
        "T\n",
        "mqn\n",
        "\n",
        "PN\n",
        "m′=1 exp\n",
        "k\n",
        "T\n",
        "m′qn\n",
        "  \n",
        "here, it will take a list of arbitrary numbers and return a list where the elements are non-negative and sum to one\n"
      ],
      "metadata": {
        "id": "Se7DK6PGPSUk"
      }
    },
    {
      "cell_type": "code",
      "source": [
        "def softmax(items_in):\n",
        "    \"\"\"\n",
        "    This function takes a list of arbitrary numbers and returns a list where the elements are non-negative and sum to 1.\n",
        "    \"\"\"\n",
        "    # Calculate the exponential of each element\n",
        "    exp_x = np.exp(items_in)\n",
        "\n",
        "    # Calculate the sum of the exponentials\n",
        "    sum_exp_x = np.sum(exp_x)\n",
        "\n",
        "    # Divide each element by the sum\n",
        "    items_out = exp_x / sum_exp_x\n",
        "\n",
        "\n",
        "    return items_out"
      ],
      "metadata": {
        "id": "u93LIcE5PoiM"
      },
      "execution_count": null,
      "outputs": []
    },
    {
      "cell_type": "markdown",
      "source": [
        "Now compute the self attention values:"
      ],
      "metadata": {
        "id": "8aJVhbKDW7lm"
      }
    },
    {
      "cell_type": "code",
      "source": [
        "# Create emptymlist for output\n",
        "all_x_prime = []\n",
        "\n",
        "# For each output\n",
        "for n in range(N):\n",
        "  # Create list for dot products of query N with all keys\n",
        "  all_km_qn = []\n",
        "  # Compute the dot products\n",
        "  for key in all_keys:\n",
        "    # TODO -- compute the appropriate dot product\n",
        "    # Replace this line\n",
        "\n",
        "    km_qn = np.dot(all_queries[n], key.transpose())\n",
        "    all_km_qn.append(km_qn)\n",
        "\n",
        "  # Compute dot product\n",
        "  attention = softmax(all_km_qn)\n",
        "  # Print result (should be positive sum to one)\n",
        "  print(\"Attentions for output \", n)\n",
        "  print(attention)\n",
        "\n",
        "  # TODO: Compute a weighted sum of all of the values according to the attention\n",
        "  # (equation 12.3)\n",
        "\n",
        "  x_prime = np.sum(np.dot(attention, all_values[n]), axis=0)\n",
        "\n",
        "  all_x_prime.append(x_prime)\n",
        "\n",
        "\n",
        "# Print out true values to check you have it correct\n",
        "print(\"x_prime_0_calculated:\", all_x_prime[0].transpose())\n",
        "print(\"x_prime_0_true: [[ 0.94744244 -0.24348429 -0.91310441 -0.44522983]]\")\n",
        "print(\"x_prime_1_calculated:\", all_x_prime[1].transpose())\n",
        "print(\"x_prime_1_true: [[ 1.64201168 -0.08470004  4.02764044  2.18690791]]\")\n",
        "print(\"x_prime_2_calculated:\", all_x_prime[2].transpose())\n",
        "print(\"x_prime_2_true: [[ 1.61949281 -0.06641533  3.96863308  2.15858316]]\")\n"
      ],
      "metadata": {
        "id": "yimz-5nCW6vQ",
        "colab": {
          "base_uri": "https://localhost:8080/"
        },
        "outputId": "fecb65af-c624-4083-c00c-5752e53005f7"
      },
      "execution_count": null,
      "outputs": [
        {
          "output_type": "stream",
          "name": "stdout",
          "text": [
            "Attentions for output  0\n",
            "[[[7.82634214e-11 6.20112256e-03 6.85298014e-11 3.02998626e-10]\n",
            "  [4.17569079e-02 2.25488145e-12 4.96254361e-02 7.18712028e-03]\n",
            "  [8.27761736e-13 8.49857660e-01 6.76387413e-13 6.48432771e-12]\n",
            "  [4.45589049e-05 3.69342732e-09 4.77241756e-05 2.21393947e-05]]\n",
            "\n",
            " [[1.09746691e-06 1.01668776e-06 5.21451866e-07 3.00046433e-06]\n",
            "  [1.69965430e-07 1.87724722e-07 4.47147555e-07 4.59810267e-08]\n",
            "  [1.67404036e-06 1.49030331e-06 5.39918356e-07 7.72643545e-06]\n",
            "  [3.20770170e-07 3.33695982e-07 4.71178277e-07 1.90762652e-07]]\n",
            "\n",
            " [[2.38968244e-05 8.86669596e-04 2.17862481e-07 7.99792193e-07]\n",
            "  [3.09879797e-09 2.82579029e-11 1.39041721e-06 2.56437834e-07]\n",
            "  [1.81263813e-04 4.41412243e-02 1.43204044e-07 1.03468364e-06]\n",
            "  [6.52908888e-08 1.00903244e-08 7.39669265e-07 3.77744649e-07]]]\n",
            "Attentions for output  1\n",
            "[[[3.31237783e-13 9.54541438e-01 2.68631597e-13 2.80193537e-12]\n",
            "  [8.23626736e-08 1.39283367e-06 8.06792984e-08 1.01657103e-07]\n",
            "  [2.50966008e-10 7.33400783e-04 2.25113187e-10 7.60030408e-10]\n",
            "  [2.10851295e-07 5.03893418e-07 2.09514169e-07 2.24975980e-07]]\n",
            "\n",
            " [[1.15161521e-06 1.02077969e-06 3.56066621e-07 5.62737893e-06]\n",
            "  [3.63499780e-07 3.59204216e-07 3.23783471e-07 4.25030310e-07]\n",
            "  [6.22361585e-07 5.84606270e-07 3.38456694e-07 1.41770867e-06]\n",
            "  [3.33128619e-07 3.31910859e-07 3.21463427e-07 3.49570499e-07]]\n",
            "\n",
            " [[1.48515863e-04 4.43977558e-02 8.98774534e-08 6.99119870e-07]\n",
            "  [5.86862322e-07 1.02934048e-06 2.82696612e-07 3.46049463e-07]\n",
            "  [7.74877425e-06 1.49244205e-04 1.65669731e-07 4.80353614e-07]\n",
            "  [3.86100586e-07 4.59067620e-07 3.08301565e-07 3.28117748e-07]]]\n",
            "Attentions for output  2\n",
            "[[[3.25339189e-05 2.96412698e-01 3.04384767e-05 6.41252899e-05]\n",
            "  [2.97038518e-05 3.27073774e-01 2.77522715e-05 5.93784588e-05]\n",
            "  [2.69831020e-03 2.49208041e-03 2.69987724e-03 2.68239030e-03]\n",
            "  [2.67004147e-03 2.52063039e-03 2.67116445e-03 2.65862269e-03]]\n",
            "\n",
            " [[3.89993634e-03 3.75329863e-03 2.68568757e-03 6.45676242e-03]\n",
            "  [3.93301847e-03 3.78212387e-03 2.68755801e-03 6.58010483e-03]\n",
            "  [2.58799919e-03 2.58886430e-03 2.59643165e-03 2.57664563e-03]\n",
            "  [2.59053026e-03 2.59115741e-03 2.59664085e-03 2.58229421e-03]]\n",
            "\n",
            " [[1.82702070e-02 1.11805190e-01 1.73402247e-03 3.32793315e-03]\n",
            "  [1.90260038e-02 1.20896205e-01 1.71952782e-03 3.34512074e-03]\n",
            "  [2.55337933e-03 2.51335981e-03 2.60635651e-03 2.59158131e-03]\n",
            "  [2.56538514e-03 2.53620065e-03 2.60382590e-03 2.59312671e-03]]]\n",
            "x_prime_0_calculated: [[ 2.51079211e-02 -4.78912021e-01  3.17658772e+00 -5.28632111e-04]]\n",
            "x_prime_0_true: [[ 0.94744244 -0.24348429 -0.91310441 -0.44522983]]\n",
            "x_prime_1_calculated: [[-2.43362550e-01 -7.26655093e-07 -2.08692950e-04 -6.15095141e-07]]\n",
            "x_prime_1_true: [[ 1.64201168 -0.08470004  4.02764044  2.18690791]]\n",
            "x_prime_2_calculated: [[0.04178471 0.0399834  0.0616188  0.0614293 ]]\n",
            "x_prime_2_true: [[ 1.61949281 -0.06641533  3.96863308  2.15858316]]\n"
          ]
        }
      ]
    },
    {
      "cell_type": "markdown",
      "source": [
        "Now let's compute the same thing, but using matrix calculations.  We'll store the $N$ inputs $\\mathbf{x}_{n}\\in\\mathbb{R}^{D}$ in the columns of a $D\\times N$ matrix, using equations 12.6 and 12.7/8.\n",
        "\n",
        "Note:  The book uses column vectors (for compatibility with the rest of the text), but in the wider literature it is more normal to store the inputs in the rows of a matrix;  in this case, the computation is the same, but all the matrices are transposed and the operations proceed in the reverse order."
      ],
      "metadata": {
        "id": "PJ2vCQ_7C38K"
      }
    },
    {
      "cell_type": "code",
      "source": [
        "# Define softmax operation that works independently on each column\n",
        "def softmax_cols(data_in):\n",
        "  # Exponentiate all of the values\n",
        "  exp_values = np.exp(data_in) ;\n",
        "  # Sum over columns\n",
        "  denom = np.sum(exp_values, axis = 0);\n",
        "  # Replicate denominator to N rows\n",
        "  denom = np.matmul(np.ones((data_in.shape[0],1)), denom[np.newaxis,:])\n",
        "  # Compute softmax\n",
        "  softmax = exp_values / denom\n",
        "  # return the answer\n",
        "  return softmax"
      ],
      "metadata": {
        "id": "obaQBdUAMXXv"
      },
      "execution_count": null,
      "outputs": []
    },
    {
      "cell_type": "code",
      "source": [
        " # Now let's compute self attention in matrix form\n",
        "def self_attention(X,omega_v, omega_q, omega_k, beta_v, beta_q, beta_k):\n",
        "\n",
        "  # TODO -- Write this function\n",
        "  # 1. Compute queries, keys, and values\n",
        "  # 2. Compute dot products\n",
        "  # 3. Apply softmax to calculate attentions\n",
        "  # 4. Weight values by attentions\n",
        "  # Replace this line\n",
        "  X_prime = np.zeros_like(X);\n",
        "\n",
        "\n",
        "  return X_prime"
      ],
      "metadata": {
        "id": "gb2WvQ3SiH8r"
      },
      "execution_count": null,
      "outputs": []
    },
    {
      "cell_type": "code",
      "source": [
        "# Copy data into matrix\n",
        "X = np.zeros((D, N))\n",
        "X[:,0] = np.squeeze(all_x[0])\n",
        "X[:,1] = np.squeeze(all_x[1])\n",
        "X[:,2] = np.squeeze(all_x[2])\n",
        "\n",
        "# Run the self attention mechanism\n",
        "X_prime = self_attention(X,omega_v, omega_q, omega_k, beta_v, beta_q, beta_k)\n",
        "\n",
        "# Print out the results\n",
        "print(X_prime)"
      ],
      "metadata": {
        "id": "MUOJbgJskUpl"
      },
      "execution_count": null,
      "outputs": []
    },
    {
      "cell_type": "markdown",
      "source": [
        "If you did this correctly, the values should be the same as above.\n",
        "\n",
        "TODO:  \n",
        "\n",
        "Print out the attention matrix\n",
        "You will see that the values are quite extreme (one is very close to one and the others are very close to zero.  Now we'll fix this problem by using scaled dot-product attention."
      ],
      "metadata": {
        "id": "as_lRKQFpvz0"
      }
    },
    {
      "cell_type": "code",
      "source": [
        "# Now let's compute self attention in matrix form\n",
        "def scaled_dot_product_self_attention(X,omega_v, omega_q, omega_k, beta_v, beta_q, beta_k):\n",
        "\n",
        "  # TODO -- Write this function\n",
        "  # 1. Compute queries, keys, and values\n",
        "  # 2. Compute dot products\n",
        "  # 3. Scale the dot products as in equation 12.9\n",
        "  # 4. Apply softmax to calculate attentions\n",
        "  # 5. Weight values by attentions\n",
        "  # Replace this line\n",
        "  X_prime = np.zeros_like(X);\n",
        "\n",
        "  return X_prime"
      ],
      "metadata": {
        "id": "kLU7PUnnqvIh"
      },
      "execution_count": null,
      "outputs": []
    },
    {
      "cell_type": "code",
      "source": [
        "# Run the self attention mechanism\n",
        "X_prime = scaled_dot_product_self_attention(X,omega_v, omega_q, omega_k, beta_v, beta_q, beta_k)\n",
        "\n",
        "# Print out the results\n",
        "print(X_prime)"
      ],
      "metadata": {
        "id": "n18e3XNzmVgL"
      },
      "execution_count": null,
      "outputs": []
    },
    {
      "cell_type": "markdown",
      "source": [
        "TODO -- Investigate whether the self-attention mechanism is covariant with respect to permutation.\n",
        "If it is, when we permute the columns of the input matrix $\\mathbf{X}$, the columns of the output matrix $\\mathbf{X}'$ will also be permuted.\n"
      ],
      "metadata": {
        "id": "QDEkIrcgrql-"
      }
    }
  ]
}